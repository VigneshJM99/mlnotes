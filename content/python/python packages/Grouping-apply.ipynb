{
 "cells": [
  {
   "cell_type": "raw",
   "metadata": {},
   "source": [
    "---\n",
    "title: \"Grouping by apply()\"\n",
    "author: \"Vignesh J M\"\n",
    "date: 2020-09-04\n",
    "description: \"-\"\n",
    "type: technical_note\n",
    "draft: false\n",
    "---"
   ]
  },
  {
   "cell_type": "code",
   "execution_count": 1,
   "metadata": {},
   "outputs": [],
   "source": [
    "import pandas as pd"
   ]
  },
  {
   "cell_type": "code",
   "execution_count": 2,
   "metadata": {},
   "outputs": [],
   "source": [
    "data = pd.read_excel('Car_Pricing.xlsx')"
   ]
  },
  {
   "cell_type": "code",
   "execution_count": 3,
   "metadata": {},
   "outputs": [
    {
     "data": {
      "text/plain": [
       "Name\n",
       "Audi A3 35 TDI Attraction                     84004\n",
       "Audi A3 35 TDI Premium Plus                   52300\n",
       "Audi A4 2.0 TDI                               46000\n",
       "Audi A4 2.0 TDI 177 Bhp Technology Edition    87001\n",
       "Audi A4 2.0 TDI Multitronic                   55000\n",
       "                                              ...  \n",
       "Volvo S60 D5 Kinetic                          70000\n",
       "Volvo S80 D5                                  87000\n",
       "Volvo V40 Cross Country D3                    60000\n",
       "Volvo XC60 D4 SUMMUM                          64000\n",
       "Volvo XC90 2007-2015 D5 AWD                   70000\n",
       "Length: 768, dtype: int64"
      ]
     },
     "execution_count": 3,
     "metadata": {},
     "output_type": "execute_result"
    }
   ],
   "source": [
    "data.groupby('Name').apply(lambda df: df.Kilometers_Driven.iloc[0])"
   ]
  },
  {
   "cell_type": "code",
   "execution_count": 4,
   "metadata": {},
   "outputs": [
    {
     "data": {
      "text/html": [
       "<div>\n",
       "<style scoped>\n",
       "    .dataframe tbody tr th:only-of-type {\n",
       "        vertical-align: middle;\n",
       "    }\n",
       "\n",
       "    .dataframe tbody tr th {\n",
       "        vertical-align: top;\n",
       "    }\n",
       "\n",
       "    .dataframe thead th {\n",
       "        text-align: right;\n",
       "    }\n",
       "</style>\n",
       "<table border=\"1\" class=\"dataframe\">\n",
       "  <thead>\n",
       "    <tr style=\"text-align: right;\">\n",
       "      <th></th>\n",
       "      <th>len</th>\n",
       "      <th>min</th>\n",
       "      <th>max</th>\n",
       "    </tr>\n",
       "    <tr>\n",
       "      <th>Name</th>\n",
       "      <th></th>\n",
       "      <th></th>\n",
       "      <th></th>\n",
       "    </tr>\n",
       "  </thead>\n",
       "  <tbody>\n",
       "    <tr>\n",
       "      <th>Audi A3 35 TDI Attraction</th>\n",
       "      <td>1</td>\n",
       "      <td>84004</td>\n",
       "      <td>84004</td>\n",
       "    </tr>\n",
       "    <tr>\n",
       "      <th>Audi A3 35 TDI Premium Plus</th>\n",
       "      <td>1</td>\n",
       "      <td>52300</td>\n",
       "      <td>52300</td>\n",
       "    </tr>\n",
       "    <tr>\n",
       "      <th>Audi A4 2.0 TDI</th>\n",
       "      <td>5</td>\n",
       "      <td>21143</td>\n",
       "      <td>70000</td>\n",
       "    </tr>\n",
       "    <tr>\n",
       "      <th>Audi A4 2.0 TDI 177 Bhp Technology Edition</th>\n",
       "      <td>1</td>\n",
       "      <td>87001</td>\n",
       "      <td>87001</td>\n",
       "    </tr>\n",
       "    <tr>\n",
       "      <th>Audi A4 2.0 TDI Multitronic</th>\n",
       "      <td>1</td>\n",
       "      <td>55000</td>\n",
       "      <td>55000</td>\n",
       "    </tr>\n",
       "    <tr>\n",
       "      <th>...</th>\n",
       "      <td>...</td>\n",
       "      <td>...</td>\n",
       "      <td>...</td>\n",
       "    </tr>\n",
       "    <tr>\n",
       "      <th>Volvo S60 D5 Kinetic</th>\n",
       "      <td>1</td>\n",
       "      <td>70000</td>\n",
       "      <td>70000</td>\n",
       "    </tr>\n",
       "    <tr>\n",
       "      <th>Volvo S80 D5</th>\n",
       "      <td>1</td>\n",
       "      <td>87000</td>\n",
       "      <td>87000</td>\n",
       "    </tr>\n",
       "    <tr>\n",
       "      <th>Volvo V40 Cross Country D3</th>\n",
       "      <td>1</td>\n",
       "      <td>60000</td>\n",
       "      <td>60000</td>\n",
       "    </tr>\n",
       "    <tr>\n",
       "      <th>Volvo XC60 D4 SUMMUM</th>\n",
       "      <td>1</td>\n",
       "      <td>64000</td>\n",
       "      <td>64000</td>\n",
       "    </tr>\n",
       "    <tr>\n",
       "      <th>Volvo XC90 2007-2015 D5 AWD</th>\n",
       "      <td>2</td>\n",
       "      <td>22230</td>\n",
       "      <td>70000</td>\n",
       "    </tr>\n",
       "  </tbody>\n",
       "</table>\n",
       "<p>768 rows × 3 columns</p>\n",
       "</div>"
      ],
      "text/plain": [
       "                                            len    min    max\n",
       "Name                                                         \n",
       "Audi A3 35 TDI Attraction                     1  84004  84004\n",
       "Audi A3 35 TDI Premium Plus                   1  52300  52300\n",
       "Audi A4 2.0 TDI                               5  21143  70000\n",
       "Audi A4 2.0 TDI 177 Bhp Technology Edition    1  87001  87001\n",
       "Audi A4 2.0 TDI Multitronic                   1  55000  55000\n",
       "...                                         ...    ...    ...\n",
       "Volvo S60 D5 Kinetic                          1  70000  70000\n",
       "Volvo S80 D5                                  1  87000  87000\n",
       "Volvo V40 Cross Country D3                    1  60000  60000\n",
       "Volvo XC60 D4 SUMMUM                          1  64000  64000\n",
       "Volvo XC90 2007-2015 D5 AWD                   2  22230  70000\n",
       "\n",
       "[768 rows x 3 columns]"
      ]
     },
     "execution_count": 4,
     "metadata": {},
     "output_type": "execute_result"
    }
   ],
   "source": [
    "data.groupby(['Name']).Kilometers_Driven.agg([len, min, max])"
   ]
  }
 ],
 "metadata": {
  "kernelspec": {
   "display_name": "kagglevil",
   "language": "python",
   "name": "kagglevil"
  },
  "language_info": {
   "codemirror_mode": {
    "name": "ipython",
    "version": 3
   },
   "file_extension": ".py",
   "mimetype": "text/x-python",
   "name": "python",
   "nbconvert_exporter": "python",
   "pygments_lexer": "ipython3",
   "version": "3.8.5"
  }
 },
 "nbformat": 4,
 "nbformat_minor": 4
}
