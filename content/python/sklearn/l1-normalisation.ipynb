{
 "cells": [
  {
   "cell_type": "raw",
   "metadata": {},
   "source": [
    "---\n",
    "title: \"L1 Normalisation\"\n",
    "author: \"Vignesh J M\"\n",
    "date: 2020-09-04\n",
    "description: \"-\"\n",
    "type: technical_note\n",
    "draft: false\n",
    "---"
   ]
  },
  {
   "cell_type": "code",
   "execution_count": 1,
   "metadata": {},
   "outputs": [],
   "source": [
    "import numpy as np\n",
    "from sklearn import preprocessing"
   ]
  },
  {
   "cell_type": "code",
   "execution_count": 2,
   "metadata": {},
   "outputs": [],
   "source": [
    "Input_data = np.array(\n",
    "   [\n",
    "      [2.1, -1.9, 5.5],\n",
    "      [-1.5, 2.4, 3.5],\n",
    "      [0.5, -7.9, 5.6],\n",
    "      [5.9, 2.3, -5.8]\n",
    "   ]\n",
    ")"
   ]
  },
  {
   "cell_type": "code",
   "execution_count": 3,
   "metadata": {},
   "outputs": [],
   "source": [
    "data_normalized_l1 = preprocessing.normalize(Input_data, norm='l1')"
   ]
  },
  {
   "cell_type": "code",
   "execution_count": 4,
   "metadata": {},
   "outputs": [
    {
     "name": "stdout",
     "output_type": "stream",
     "text": [
      "\n",
      "L1 normalized data:\n",
      " [[ 0.22105263 -0.2         0.57894737]\n",
      " [-0.2027027   0.32432432  0.47297297]\n",
      " [ 0.03571429 -0.56428571  0.4       ]\n",
      " [ 0.42142857  0.16428571 -0.41428571]]\n"
     ]
    }
   ],
   "source": [
    "print(\"\\nL1 normalized data:\\n\", data_normalized_l1)"
   ]
  }
 ],
 "metadata": {
  "kernelspec": {
   "display_name": "kagglevil",
   "language": "python",
   "name": "kagglevil"
  },
  "language_info": {
   "codemirror_mode": {
    "name": "ipython",
    "version": 3
   },
   "file_extension": ".py",
   "mimetype": "text/x-python",
   "name": "python",
   "nbconvert_exporter": "python",
   "pygments_lexer": "ipython3",
   "version": "3.8.5"
  }
 },
 "nbformat": 4,
 "nbformat_minor": 4
}
